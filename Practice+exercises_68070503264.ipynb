{
 "cells": [
  {
   "cell_type": "markdown",
   "id": "186222d0",
   "metadata": {},
   "source": [
    "Exercise 1\n",
    "\n",
    "Write a function to report the weather condition. \n",
    "Input ==> Temperature ('C)\n",
    "\n",
    "IF the temperature is below 0, print \"Freezing Cold\"\n",
    "IF the temperature is 0-20, print \"Cold Weather\"\n",
    "IF the temperature is 21-30, print \" Warm Weather\"\n",
    "Otherwise, print \"Hot Weather\""
   ]
  },
  {
   "cell_type": "code",
   "execution_count": 27,
   "id": "4bbb422e",
   "metadata": {},
   "outputs": [],
   "source": [
    "def weather_report(temp: float):\n",
    "    pass\n",
    "    if temp < 0:\n",
    "        print(\"Freezing Cold\")\n",
    "    elif 0 <= temp <= 20:\n",
    "        print(\"Cold Weather\")\n",
    "    elif 21 <= temp <= 30:\n",
    "        print(\"Warm Weather\")\n",
    "    else:\n",
    "        print(\"Hot Weather\")"
   ]
  },
  {
   "cell_type": "code",
   "execution_count": 31,
   "id": "c697ef3f",
   "metadata": {},
   "outputs": [
    {
     "name": "stdout",
     "output_type": "stream",
     "text": [
      "Warm Weather\n"
     ]
    }
   ],
   "source": [
    "weather_report(30)"
   ]
  },
  {
   "cell_type": "code",
   "execution_count": 28,
   "id": "081729b0",
   "metadata": {},
   "outputs": [
    {
     "name": "stdout",
     "output_type": "stream",
     "text": [
      "Cold Weather\n"
     ]
    }
   ],
   "source": [
    "weather_report(20)"
   ]
  },
  {
   "cell_type": "code",
   "execution_count": 29,
   "id": "37d09d39",
   "metadata": {},
   "outputs": [
    {
     "name": "stdout",
     "output_type": "stream",
     "text": [
      "Hot Weather\n"
     ]
    }
   ],
   "source": [
    "weather_report(40)"
   ]
  },
  {
   "cell_type": "code",
   "execution_count": 30,
   "id": "c5887ecb",
   "metadata": {},
   "outputs": [
    {
     "name": "stdout",
     "output_type": "stream",
     "text": [
      "Freezing Cold\n"
     ]
    }
   ],
   "source": [
    "weather_report(-0.5)"
   ]
  },
  {
   "cell_type": "markdown",
   "id": "36f44c18",
   "metadata": {},
   "source": [
    "Exercise 2\n",
    "\n",
    "Write a function that takes an integer as an input score\n",
    "\n",
    "If the score is greater than or equal to 50, print \"Pass\"\n",
    "If the score is greater than or equal to 75, print \"Good\"\n",
    "If the score is exactly 100, print \"Perfect\"\n",
    "\n",
    "Since these are multiple independent conditions, more than one message print"
   ]
  },
  {
   "cell_type": "code",
   "execution_count": 20,
   "id": "b3971fd8",
   "metadata": {},
   "outputs": [],
   "source": [
    "def get_score(score: float):\n",
    "    pass\n",
    "    if score == 100:\n",
    "        print(\"Perfect\")\n",
    "    elif score >= 75:\n",
    "        print(\"Good\")\n",
    "    elif score >= 50:\n",
    "        print(\"Pass\")\n",
    "    else:\n",
    "        print(\"Fail\")"
   ]
  },
  {
   "cell_type": "code",
   "execution_count": 23,
   "id": "17631d25",
   "metadata": {},
   "outputs": [
    {
     "name": "stdout",
     "output_type": "stream",
     "text": [
      "Good\n"
     ]
    }
   ],
   "source": [
    "get_score(78)"
   ]
  },
  {
   "cell_type": "code",
   "execution_count": 22,
   "id": "78fe3523",
   "metadata": {},
   "outputs": [
    {
     "name": "stdout",
     "output_type": "stream",
     "text": [
      "Pass\n"
     ]
    }
   ],
   "source": [
    "get_score(50)"
   ]
  },
  {
   "cell_type": "code",
   "execution_count": 21,
   "id": "fdc7e1ec",
   "metadata": {},
   "outputs": [
    {
     "name": "stdout",
     "output_type": "stream",
     "text": [
      "Perfect\n"
     ]
    }
   ],
   "source": [
    "get_score(100)"
   ]
  },
  {
   "cell_type": "markdown",
   "id": "5c1b906e",
   "metadata": {},
   "source": [
    "Exercise 3\n",
    "\n",
    "Write a program that returns the count of vowels in the string. Use a for loop to go through each character in the string.\n",
    "\n",
    "Input ==> apple, Output ==> 2\n",
    "\n",
    "Input ==> Hello World, Output => 3\n",
    "\n",
    "Input ==> balloon, Output ==> 3"
   ]
  },
  {
   "cell_type": "code",
   "execution_count": 38,
   "id": "64239a6d",
   "metadata": {},
   "outputs": [],
   "source": [
    "def count_vowels(st: str):\n",
    "    count = 0\n",
    "    #TO DO\n",
    "    count = 0\n",
    "    vowels = \"aeiouAEIOU\"\n",
    "    for c in st:\n",
    "        if c in vowels:\n",
    "            count += 1\n",
    "    return count"
   ]
  },
  {
   "cell_type": "code",
   "execution_count": 41,
   "id": "1acec79e",
   "metadata": {},
   "outputs": [
    {
     "data": {
      "text/plain": [
       "3"
      ]
     },
     "execution_count": 41,
     "metadata": {},
     "output_type": "execute_result"
    }
   ],
   "source": [
    "count_vowels(\"balloon\")"
   ]
  },
  {
   "cell_type": "code",
   "execution_count": 40,
   "id": "62b4a34b",
   "metadata": {},
   "outputs": [
    {
     "data": {
      "text/plain": [
       "3"
      ]
     },
     "execution_count": 40,
     "metadata": {},
     "output_type": "execute_result"
    }
   ],
   "source": [
    "count_vowels(\"Hello World\")"
   ]
  },
  {
   "cell_type": "code",
   "execution_count": 39,
   "id": "9ad489b9",
   "metadata": {},
   "outputs": [
    {
     "data": {
      "text/plain": [
       "2"
      ]
     },
     "execution_count": 39,
     "metadata": {},
     "output_type": "execute_result"
    }
   ],
   "source": [
    "count_vowels(\"apple\")"
   ]
  }
 ],
 "metadata": {
  "kernelspec": {
   "display_name": "Python 3",
   "language": "python",
   "name": "python3"
  },
  "language_info": {
   "codemirror_mode": {
    "name": "ipython",
    "version": 3
   },
   "file_extension": ".py",
   "mimetype": "text/x-python",
   "name": "python",
   "nbconvert_exporter": "python",
   "pygments_lexer": "ipython3",
   "version": "3.11.9"
  }
 },
 "nbformat": 4,
 "nbformat_minor": 5
}
